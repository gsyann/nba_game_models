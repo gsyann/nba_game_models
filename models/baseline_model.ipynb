{
 "cells": [
  {
   "cell_type": "code",
   "execution_count": 1,
   "metadata": {},
   "outputs": [],
   "source": [
    "import matplotlib.pyplot as plt\n",
    "import numpy as np\n",
    "import pandas as pd\n",
    "import seaborn as sns\n",
    "\n",
    "\n",
    "from sklearn.ensemble import RandomForestClassifier\n",
    "from sklearn.model_selection import train_test_split\n",
    "from sklearn import tree\n",
    "from sklearn.tree import DecisionTreeClassifier\n",
    "from sklearn.metrics import precision_recall_fscore_support, plot_confusion_matrix, plot_roc_curve, roc_auc_score"
   ]
  },
  {
   "cell_type": "markdown",
   "metadata": {},
   "source": [
    "# Data Prep"
   ]
  },
  {
   "cell_type": "code",
   "execution_count": 3,
   "metadata": {},
   "outputs": [],
   "source": [
    "#Read in data\n",
    "\n",
    "data_dir = '/Users/gregyannett/Documents/nba_game_models/data/datasets/'\n",
    "\n",
    "gamelogs = pd.read_csv(data_dir + 'all_games.csv')\n",
    "spreads = pd.read_csv(data_dir + 'all_spreads.csv')\n",
    "moneylines = pd.read_csv(data_dir + 'all_moneylines.csv')"
   ]
  },
  {
   "cell_type": "code",
   "execution_count": 4,
   "metadata": {},
   "outputs": [],
   "source": [
    "#add result of game\n",
    "gamelogs['win'] = np.where(gamelogs['pt_diff'] > 0, 1, 0)\n",
    "\n",
    "\n",
    "suffix_list = ['roll_1', 'roll_2', 'roll_3', 'roll_4', 'roll_5', 'roll_6', 'roll_7', 'roll_8', 'roll_9', 'roll_10',\n",
    "               'exp_0.0001', 'exp_0.001', 'exp_0.005', 'exp_0.01', 'exp_0.05', 'exp_0.1', 'exp_0.2', 'exp_0.3', 'exp_0.5', 'exp_0.75', 'exp_0.9', 'exp_0.95']\n",
    "\n",
    "#add net rating (ortg - drtg)\n",
    "for suff in suffix_list:\n",
    "    gamelogs['nrtg_' + suff] = gamelogs['ortg_' + suff] - gamelogs['drtg_' + suff]\n",
    "    gamelogs['away_nrtg_' + suff] = gamelogs['away_ortg_' + suff] - gamelogs['away_drtg_' + suff]\n"
   ]
  },
  {
   "cell_type": "code",
   "execution_count": 5,
   "metadata": {},
   "outputs": [],
   "source": [
    "data = gamelogs.merge(spreads.drop(['date','home_team','away_team'],axis=1), on='id', how='left')\n",
    "data = data.merge(moneylines.drop(['date','home_team','away_team'], axis=1), on='id', how='left')"
   ]
  },
  {
   "cell_type": "code",
   "execution_count": 6,
   "metadata": {},
   "outputs": [],
   "source": [
    "betting_gamelogs = data[data['season'] >= 2007]\n",
    "\n",
    "#drop all rows where all betting data is NaN\n",
    "betting_gamelogs = betting_gamelogs[~betting_gamelogs.iloc[:, 1171:].isna().all(1)]"
   ]
  },
  {
   "cell_type": "code",
   "execution_count": 7,
   "metadata": {},
   "outputs": [],
   "source": [
    "#Add the results ATS (for each book and for the average spread)\n",
    "\n",
    "books = ['pinnacle', '5dimes', 'bookmaker', 'betonline', 'bovada', 'heritage', 'intertops', 'youwager', 'justbet']\n",
    "\n",
    "for book in books:\n",
    "    betting_gamelogs['result_ATS_'+book] = np.where(betting_gamelogs['home_'+book+'_spread'] + betting_gamelogs['pt_diff'] > 0, 1, 0)\n",
    "    betting_gamelogs['result_ATS_'+book] = np.where(betting_gamelogs['home_'+book+'_spread'] + betting_gamelogs['pt_diff'] == 0, -1, betting_gamelogs['result_ATS_'+book])\n",
    "\n",
    "betting_gamelogs['result_ATS_avg'] = np.where(betting_gamelogs['average_home_spread'] + betting_gamelogs['pt_diff'] > 0, 1, 0)\n",
    "betting_gamelogs['result_ATS_avg'] = np.where(betting_gamelogs['average_home_spread'] + betting_gamelogs['pt_diff'] == 0, -1, betting_gamelogs['result_ATS_avg'])"
   ]
  },
  {
   "cell_type": "code",
   "execution_count": 8,
   "metadata": {},
   "outputs": [],
   "source": [
    "# Add favorite for spread bets\n",
    "\n",
    "\n",
    "home_fav = np.where((betting_gamelogs['average_home_odds'] < betting_gamelogs['average_away_odds']), 1, 0)\n",
    "away_fav = np.where((betting_gamelogs['average_home_odds'] > betting_gamelogs['average_away_odds']), 2, 0)\n",
    "no_fav = np.where((betting_gamelogs['average_home_odds'] == betting_gamelogs['average_away_odds']), 3, 0)\n",
    "\n",
    "betting_gamelogs['spread_favorite'] = (home_fav + away_fav + no_fav)\n",
    "\n",
    "# 0 for no odds, 1 for home favorite, 2 for away favorite, 3 for equal odds"
   ]
  },
  {
   "cell_type": "code",
   "execution_count": 9,
   "metadata": {},
   "outputs": [],
   "source": [
    "#Drop games that push according to average spread\n",
    "betting_gamelogs = betting_gamelogs[betting_gamelogs['result_ATS_avg'] >= 0]\n",
    "\n",
    "betting_gamelogs = betting_gamelogs.reset_index(drop=True)"
   ]
  },
  {
   "cell_type": "code",
   "execution_count": 10,
   "metadata": {},
   "outputs": [],
   "source": [
    "# betting_gamelogs.to_csv(data_dir + 'betting_gamelogs.csv', index=False)"
   ]
  },
  {
   "cell_type": "code",
   "execution_count": 11,
   "metadata": {},
   "outputs": [],
   "source": [
    "betting_gamelogs = pd.read_csv(data_dir + 'betting_gamelogs.csv')"
   ]
  },
  {
   "cell_type": "code",
   "execution_count": 12,
   "metadata": {},
   "outputs": [],
   "source": [
    "# partition dataset into rows where home team wins and home teams loses\n",
    "win = betting_gamelogs[betting_gamelogs['win'] == 1]\n",
    "lose = betting_gamelogs[betting_gamelogs['win'] == 0]\n",
    "\n",
    "# partition dataset into rows where home team wins ATS and home teams loses ATS\n",
    "winATS = betting_gamelogs[betting_gamelogs['result_ATS_avg'] == 1]\n",
    "loseATS = betting_gamelogs[betting_gamelogs['result_ATS_avg'] == 0]"
   ]
  },
  {
   "cell_type": "code",
   "execution_count": 16,
   "metadata": {},
   "outputs": [],
   "source": [
    "# Function that subsets the gamelog dataframes (by rolling/exponential average type)\n",
    "\n",
    "def moving_average_subset(df, avg_type, additional_cols = [], num_games_thresh = 1, na_filter=None):\n",
    "    \n",
    "    df = df[(df['games_played'] > num_games_thresh) & (df['away_games_played'] > num_games_thresh)]\n",
    "    \n",
    "    # If more than one col_type is specified\n",
    "    if type(avg_type) is list:\n",
    "        col_subset = []\n",
    "        \n",
    "        for c in avg_type:\n",
    "            col_subset += list(df.columns[df.columns.str.contains(c+'$')]) #regex for column ends in col_type \n",
    "            \n",
    "    else:\n",
    "        col_subset = list(df.columns[df.columns.str.contains(avg_type+'$')])\n",
    "        \n",
    "    \n",
    "    col_subset = ['id', 'season', 'games_played', 'pt_diff', 'win', 'result_ATS_avg'] + col_subset + additional_cols\n",
    "    \n",
    "    df = df.loc[:, col_subset]\n",
    "    \n",
    "    # Filter out rows with NaN values according to column na_filter\n",
    "    if na_filter:\n",
    "        df = df[~df[na_filter].isna()]\n",
    "    \n",
    "    #Split dataset into 2021 season and all previous seasons\n",
    "    current_season_df = df[df['season']==2021]\n",
    "    df = df[df['season'] < 2021]\n",
    "    \n",
    "    return df, current_season_df"
   ]
  },
  {
   "cell_type": "markdown",
   "metadata": {},
   "source": [
    "**---------------------------------------------------------------------------------------------------------------------------------------------------------------------------------------------------------------**"
   ]
  },
  {
   "cell_type": "markdown",
   "metadata": {},
   "source": [
    "# Predicting the Outcomes of NBA Games"
   ]
  },
  {
   "cell_type": "markdown",
   "metadata": {},
   "source": [
    "## Baseline Model"
   ]
  },
  {
   "cell_type": "markdown",
   "metadata": {},
   "source": [
    "### Data Prep"
   ]
  },
  {
   "cell_type": "markdown",
   "metadata": {},
   "source": [
    "**Only use roll_1 features for simple baseline model**"
   ]
  },
  {
   "cell_type": "code",
   "execution_count": 42,
   "metadata": {},
   "outputs": [],
   "source": [
    "# Get subset of betting_gamelogs that includes standard columns (like id, target cols, etc), roll_1 features, schedule data, and average moneylines\n",
    "roll_1, current_season_roll_1 = moving_average_subset(betting_gamelogs, 'roll_1', \n",
    "                                            ['average_home_ML', 'average_away_ML', 'consec_away', 'away_consec_away', 'days_since_last', \n",
    "                                             'away_days_since_last', 'back2back', 'away_back2back'], num_games_thresh=2, na_filter='average_home_ML')\n",
    "roll_1 = roll_1.reset_index(drop=True)\n",
    "current_season_roll_1 = current_season_roll_1.reset_index(drop=True)\n",
    "\n",
    "# roll_1.to_csv('/Users/gregyannett/Documents/nba_game_models/data/model_data/baseline_data.csv',index=False)\n",
    "# current_season_roll_1.to_csv('/Users/gregyannett/Documents/nba_game_models/data/model_data/2021_season_baseline.csv',index=False)"
   ]
  },
  {
   "cell_type": "markdown",
   "metadata": {},
   "source": [
    "#### Load Notebook from here"
   ]
  },
  {
   "cell_type": "code",
   "execution_count": 43,
   "metadata": {},
   "outputs": [],
   "source": [
    "roll_1 = pd.read_csv('/Users/gregyannett/Documents/nba_game_models/data/model_data/baseline_data.csv')\n",
    "current_season_roll_1 = pd.read_csv('/Users/gregyannett/Documents/nba_game_models/data/model_data/2021_season_baseline.csv')"
   ]
  },
  {
   "cell_type": "code",
   "execution_count": 44,
   "metadata": {},
   "outputs": [],
   "source": [
    "def get_model_data_and_targets(df, cols, target, avg_type, additional_cols):\n",
    "    \n",
    "    # Gets home and away columns for each desired column type \n",
    "    model_cols = [c + '_' + avg_type for c in cols] + ['away_' + c + '_' + avg_type for c in cols] + additional_cols\n",
    "    \n",
    "    # Partition data into dataset with desired columns and labels\n",
    "    X = df.loc[:, model_cols]\n",
    "    y = df[target]\n",
    "    \n",
    "    return X, y"
   ]
  },
  {
   "cell_type": "code",
   "execution_count": 45,
   "metadata": {},
   "outputs": [],
   "source": [
    "# Subset roll_1 data to only include desired training columns and split into dataset and labels\n",
    "col_types = ['pt_diff', 'nrtg', 'pace', 'ftr', '3par', 'trb%', 'ast%', 'stl%', 'blk%', 'efg%', 'tov%', 'ft/fga']\n",
    "\n",
    "X, y = get_model_data_and_targets(roll_1, col_types, 'win', 'roll_1', ['average_home_ML', 'average_away_ML','id'])"
   ]
  },
  {
   "cell_type": "markdown",
   "metadata": {},
   "source": [
    "### Training and Tuning Model"
   ]
  },
  {
   "cell_type": "code",
   "execution_count": 46,
   "metadata": {},
   "outputs": [],
   "source": [
    "X_train, X_val, y_train, y_val = train_test_split(X, y, random_state=42,)\n",
    "\n",
    "X_train_ids = X_train.id\n",
    "X_train = X_train.drop(['id'],axis=1)\n",
    "\n",
    "X_val_ids = X_val.id\n",
    "X_val = X_val.drop(['id'],axis=1)\n",
    "\n",
    "X_test = current_season_roll_1[X_train.columns]\n",
    "y_test = current_season_roll_1['win']\n",
    "X_test_ids = current_season_roll_1['id']"
   ]
  },
  {
   "cell_type": "code",
   "execution_count": 47,
   "metadata": {},
   "outputs": [
    {
     "data": {
      "text/plain": [
       "DecisionTreeClassifier()"
      ]
     },
     "execution_count": 47,
     "metadata": {},
     "output_type": "execute_result"
    }
   ],
   "source": [
    "baseline_model = DecisionTreeClassifier()\n",
    "baseline_model.fit(X_train, y_train)"
   ]
  },
  {
   "cell_type": "code",
   "execution_count": 48,
   "metadata": {},
   "outputs": [
    {
     "data": {
      "text/plain": [
       "1.0"
      ]
     },
     "execution_count": 48,
     "metadata": {},
     "output_type": "execute_result"
    }
   ],
   "source": [
    "# Train accuracy\n",
    "baseline_train_acc = (baseline_model.predict(X_train) == y_train).sum()/len(y_train)\n",
    "baseline_train_acc"
   ]
  },
  {
   "cell_type": "code",
   "execution_count": 49,
   "metadata": {},
   "outputs": [
    {
     "data": {
      "text/plain": [
       "0.600737512571237"
      ]
     },
     "execution_count": 49,
     "metadata": {},
     "output_type": "execute_result"
    }
   ],
   "source": [
    "# Validation Accuracy\n",
    "baseline_val_acc = (baseline_model.predict(X_val) == y_val).sum()/len(y_val)\n",
    "baseline_val_acc"
   ]
  },
  {
   "cell_type": "code",
   "execution_count": 50,
   "metadata": {},
   "outputs": [
    {
     "data": {
      "text/plain": [
       "0.579185520361991"
      ]
     },
     "execution_count": 50,
     "metadata": {},
     "output_type": "execute_result"
    }
   ],
   "source": [
    "# Test Accuracy\n",
    "baseline_test_acc = (baseline_model.predict(X_test) == y_test).sum()/len(y_test)\n",
    "baseline_test_acc"
   ]
  },
  {
   "cell_type": "markdown",
   "metadata": {},
   "source": [
    "#### Tune Hyperparameters"
   ]
  },
  {
   "cell_type": "code",
   "execution_count": 51,
   "metadata": {},
   "outputs": [],
   "source": [
    "# Quick hyperparameter tuning for baseline model\n",
    "# Clearly overfitting so focus on tree depth and min_impurity_split\n",
    "\n",
    "max_depths = [None, 5,10,15,20,25,30,35,40]\n",
    "impurity_thresh = [0, .00001, .0001, .001, .01, .1]\n",
    "\n",
    "accuracy_table = []\n",
    "\n",
    "for d in max_depths:\n",
    "    for i in impurity_thresh:\n",
    "        \n",
    "        accuracies = [d, i]\n",
    "        m = DecisionTreeClassifier(max_depth=d, min_impurity_decrease=i)\n",
    "        m.fit(X_train, y_train)\n",
    "        \n",
    "        accuracies.append((m.predict(X_train) == y_train).sum()/len(y_train))\n",
    "        accuracies.append((m.predict(X_val) == y_val).sum()/len(y_val))\n",
    "        \n",
    "        accuracy_table.append(accuracies)\n",
    "\n",
    "\n",
    "accuracy_table = pd.DataFrame(accuracy_table, columns=['max_depth', 'impurity_threshold', 'train_acc', 'val_acc'])"
   ]
  },
  {
   "cell_type": "code",
   "execution_count": 52,
   "metadata": {},
   "outputs": [
    {
     "name": "stdout",
     "output_type": "stream",
     "text": [
      "BEST HYPERPARAMETER COMBO\n"
     ]
    },
    {
     "data": {
      "text/plain": [
       "max_depth                  NaN\n",
       "impurity_threshold    0.001000\n",
       "train_acc             0.687116\n",
       "val_acc               0.682870\n",
       "Name: 3, dtype: float64"
      ]
     },
     "execution_count": 52,
     "metadata": {},
     "output_type": "execute_result"
    }
   ],
   "source": [
    "# Find hyperparams that give best validation accuracy\n",
    "print(\"BEST HYPERPARAMETER COMBO\")\n",
    "accuracy_table.loc[accuracy_table['val_acc'].idxmax()]"
   ]
  },
  {
   "cell_type": "code",
   "execution_count": 53,
   "metadata": {},
   "outputs": [
    {
     "data": {
      "text/plain": [
       "DecisionTreeClassifier(min_impurity_decrease=0.001)"
      ]
     },
     "execution_count": 53,
     "metadata": {},
     "output_type": "execute_result"
    }
   ],
   "source": [
    "tuned_baseline_model = DecisionTreeClassifier(min_impurity_decrease=0.001)\n",
    "tuned_baseline_model.fit(X_train, y_train)"
   ]
  },
  {
   "cell_type": "code",
   "execution_count": 54,
   "metadata": {},
   "outputs": [
    {
     "data": {
      "text/plain": [
       "0.6871158788691474"
      ]
     },
     "execution_count": 54,
     "metadata": {},
     "output_type": "execute_result"
    }
   ],
   "source": [
    "tuned_baseline_train_acc = (tuned_baseline_model.predict(X_train) == y_train).sum()/len(y_train)\n",
    "tuned_baseline_train_acc"
   ]
  },
  {
   "cell_type": "code",
   "execution_count": 55,
   "metadata": {},
   "outputs": [
    {
     "data": {
      "text/plain": [
       "0.6828695943680858"
      ]
     },
     "execution_count": 55,
     "metadata": {},
     "output_type": "execute_result"
    }
   ],
   "source": [
    "tuned_baseline_val_acc = (tuned_baseline_model.predict(X_val) == y_val).sum()/len(y_val)\n",
    "tuned_baseline_val_acc"
   ]
  },
  {
   "cell_type": "code",
   "execution_count": 56,
   "metadata": {},
   "outputs": [
    {
     "data": {
      "text/plain": [
       "0.6515837104072398"
      ]
     },
     "execution_count": 56,
     "metadata": {},
     "output_type": "execute_result"
    }
   ],
   "source": [
    "tuned_baseline_test_acc = (tuned_baseline_model.predict(X_test) == y_test).sum()/len(y_test)\n",
    "tuned_baseline_test_acc"
   ]
  },
  {
   "cell_type": "markdown",
   "metadata": {},
   "source": [
    "**---------------------------------------------------------------------------------------------------------------------------------------------------------------------------------------------------------------**"
   ]
  },
  {
   "cell_type": "markdown",
   "metadata": {},
   "source": [
    "# Model Results and Analysis"
   ]
  },
  {
   "cell_type": "markdown",
   "metadata": {},
   "source": [
    "**Result DataFrames**"
   ]
  },
  {
   "cell_type": "code",
   "execution_count": 57,
   "metadata": {},
   "outputs": [],
   "source": [
    "# Train set results df (contains, true and predicted label, favorite info and game id)\n",
    "train_results_df = X_train[['average_home_ML','average_away_ML']].copy()\n",
    "train_results_df['win'] = y_train\n",
    "train_results_df['pred'] = tuned_baseline_model.predict(X_train)\n",
    "train_results_df['id'] = X_train_ids\n",
    "train_results_df['favorite'] = np.where(train_results_df['average_home_ML'] <= train_results_df['average_away_ML'], 1, 0)\n",
    "\n",
    "# Validation set results df (contains, true and predicted label, favorite info and game id)\n",
    "val_results_df = X_val[['average_home_ML','average_away_ML']].copy()\n",
    "val_results_df['win'] = y_val\n",
    "val_results_df['pred'] = tuned_baseline_model.predict(X_val)\n",
    "val_results_df['id'] = X_val_ids\n",
    "val_results_df['favorite'] = np.where(val_results_df['average_home_ML'] <= val_results_df['average_away_ML'], 1, 0)"
   ]
  },
  {
   "cell_type": "markdown",
   "metadata": {},
   "source": [
    "**Model Accuracies**"
   ]
  },
  {
   "cell_type": "code",
   "execution_count": 58,
   "metadata": {},
   "outputs": [],
   "source": [
    "def vegas_baseline(df):\n",
    "    # Returns the accuracy of picking the favorite to win every game\n",
    "    return (df['favorite'] == df['win']).sum()/len(df)"
   ]
  },
  {
   "cell_type": "code",
   "execution_count": 59,
   "metadata": {},
   "outputs": [
    {
     "data": {
      "text/html": [
       "<div>\n",
       "<style scoped>\n",
       "    .dataframe tbody tr th:only-of-type {\n",
       "        vertical-align: middle;\n",
       "    }\n",
       "\n",
       "    .dataframe tbody tr th {\n",
       "        vertical-align: top;\n",
       "    }\n",
       "\n",
       "    .dataframe thead th {\n",
       "        text-align: right;\n",
       "    }\n",
       "</style>\n",
       "<table border=\"1\" class=\"dataframe\">\n",
       "  <thead>\n",
       "    <tr style=\"text-align: right;\">\n",
       "      <th></th>\n",
       "      <th>train_acc</th>\n",
       "      <th>val_acc</th>\n",
       "      <th>test_acc</th>\n",
       "    </tr>\n",
       "  </thead>\n",
       "  <tbody>\n",
       "    <tr>\n",
       "      <th>baseline</th>\n",
       "      <td>1.000000</td>\n",
       "      <td>0.600738</td>\n",
       "      <td>0.579186</td>\n",
       "    </tr>\n",
       "    <tr>\n",
       "      <th>tuned baseline</th>\n",
       "      <td>0.687116</td>\n",
       "      <td>0.682870</td>\n",
       "      <td>0.651584</td>\n",
       "    </tr>\n",
       "    <tr>\n",
       "      <th>vegas baseline</th>\n",
       "      <td>0.683652</td>\n",
       "      <td>0.686222</td>\n",
       "      <td>NaN</td>\n",
       "    </tr>\n",
       "  </tbody>\n",
       "</table>\n",
       "</div>"
      ],
      "text/plain": [
       "                train_acc   val_acc  test_acc\n",
       "baseline         1.000000  0.600738  0.579186\n",
       "tuned baseline   0.687116  0.682870  0.651584\n",
       "vegas baseline   0.683652  0.686222       NaN"
      ]
     },
     "execution_count": 59,
     "metadata": {},
     "output_type": "execute_result"
    }
   ],
   "source": [
    "# Results Table \n",
    "\n",
    "vegas_results_train = vegas_baseline(train_results_df)\n",
    "vegas_results_val = vegas_baseline(val_results_df)\n",
    "\n",
    "model_accuracy_table = pd.DataFrame([[baseline_train_acc, baseline_val_acc, baseline_test_acc], [tuned_baseline_train_acc, tuned_baseline_val_acc, tuned_baseline_test_acc],\n",
    "                                    [vegas_results_train, vegas_results_val, np.nan]],\n",
    "                                    index=['baseline', 'tuned baseline','vegas baseline'], columns=['train_acc', 'val_acc', 'test_acc'])\n",
    "\n",
    "model_accuracy_table"
   ]
  },
  {
   "cell_type": "markdown",
   "metadata": {},
   "source": [
    "**Notes**\n",
    "- Vegas baseline model is a \"classifier\" that always chooses the favorite to win. (i.e. the proportion of times the favorite wins in the dataset)'\n",
    "\n",
    "\n",
    "- Model performs very similarly to vegas baseline\n",
    "    - very slightly outperforms vegas on the training set and very slightly underperforms vegas on the validation set"
   ]
  },
  {
   "cell_type": "markdown",
   "metadata": {},
   "source": [
    "**Decision Tree Diagram**"
   ]
  },
  {
   "cell_type": "code",
   "execution_count": 60,
   "metadata": {},
   "outputs": [
    {
     "data": {
      "image/png": "[encoded data removed]",
      "text/plain": [
       "<Figure size 1080x720 with 1 Axes>"
      ]
     },
     "metadata": {
      "needs_background": "light"
     },
     "output_type": "display_data"
    }
   ],
   "source": [
    "plt.figure(figsize=(15,10))\n",
    "_ = tree.plot_tree(tuned_baseline_model, \n",
    "                   feature_names=X_train.columns,  \n",
    "                   filled=True)\n"
   ]
  },
  {
   "cell_type": "markdown",
   "metadata": {},
   "source": [
    "**Notes**\n",
    "- Depsite being trained on a wider variety of features, the baseline decision tree only utilizes average home and average away moneylines to classify games\n",
    "    - Not entirely surprising because the only other features are extracted from each team's immediately previous game (which probably doesn't hold much predictive power).\n",
    "    \n",
    "   \n",
    "    \n",
    "- This explains why the model performs very similarly to vegas baseline (which always chooses then favorite to win)\n",
    "\n",
    "- Gini impurity values at leaves are only \"good\" when classifying heavy favorites "
   ]
  },
  {
   "cell_type": "code",
   "execution_count": 61,
   "metadata": {},
   "outputs": [
    {
     "data": {
      "text/html": [
       "<div>\n",
       "<style scoped>\n",
       "    .dataframe tbody tr th:only-of-type {\n",
       "        vertical-align: middle;\n",
       "    }\n",
       "\n",
       "    .dataframe tbody tr th {\n",
       "        vertical-align: top;\n",
       "    }\n",
       "\n",
       "    .dataframe thead th {\n",
       "        text-align: right;\n",
       "    }\n",
       "</style>\n",
       "<table border=\"1\" class=\"dataframe\">\n",
       "  <thead>\n",
       "    <tr style=\"text-align: right;\">\n",
       "      <th></th>\n",
       "      <th>away_wins</th>\n",
       "      <th>home_wins</th>\n",
       "    </tr>\n",
       "  </thead>\n",
       "  <tbody>\n",
       "    <tr>\n",
       "      <th>precision</th>\n",
       "      <td>0.637408</td>\n",
       "      <td>0.713893</td>\n",
       "    </tr>\n",
       "    <tr>\n",
       "      <th>recall</th>\n",
       "      <td>0.545479</td>\n",
       "      <td>0.785174</td>\n",
       "    </tr>\n",
       "    <tr>\n",
       "      <th>f1</th>\n",
       "      <td>0.587872</td>\n",
       "      <td>0.747839</td>\n",
       "    </tr>\n",
       "    <tr>\n",
       "      <th>num_class</th>\n",
       "      <td>3661.000000</td>\n",
       "      <td>5288.000000</td>\n",
       "    </tr>\n",
       "    <tr>\n",
       "      <th>prop_class</th>\n",
       "      <td>0.409096</td>\n",
       "      <td>0.590904</td>\n",
       "    </tr>\n",
       "  </tbody>\n",
       "</table>\n",
       "</div>"
      ],
      "text/plain": [
       "              away_wins    home_wins\n",
       "precision      0.637408     0.713893\n",
       "recall         0.545479     0.785174\n",
       "f1             0.587872     0.747839\n",
       "num_class   3661.000000  5288.000000\n",
       "prop_class     0.409096     0.590904"
      ]
     },
     "execution_count": 61,
     "metadata": {},
     "output_type": "execute_result"
    }
   ],
   "source": [
    "# Precision, recall, f1 score for training set\n",
    "baseline_precision_recall_f1_train = pd.DataFrame(precision_recall_fscore_support(y_train, tuned_baseline_model.predict(X_train)), index=['precision','recall','f1','num_class'], \n",
    "                                            columns=['away_wins','home_wins'])\n",
    "\n",
    "baseline_precision_recall_f1_train.loc['prop_class'] = baseline_precision_recall_f1_train.loc['num_class']/len(train_results_df)\n",
    "\n",
    "baseline_precision_recall_f1_train"
   ]
  },
  {
   "cell_type": "code",
   "execution_count": 62,
   "metadata": {},
   "outputs": [
    {
     "data": {
      "text/html": [
       "<div>\n",
       "<style scoped>\n",
       "    .dataframe tbody tr th:only-of-type {\n",
       "        vertical-align: middle;\n",
       "    }\n",
       "\n",
       "    .dataframe tbody tr th {\n",
       "        vertical-align: top;\n",
       "    }\n",
       "\n",
       "    .dataframe thead th {\n",
       "        text-align: right;\n",
       "    }\n",
       "</style>\n",
       "<table border=\"1\" class=\"dataframe\">\n",
       "  <thead>\n",
       "    <tr style=\"text-align: right;\">\n",
       "      <th></th>\n",
       "      <th>away_wins</th>\n",
       "      <th>home_wins</th>\n",
       "    </tr>\n",
       "  </thead>\n",
       "  <tbody>\n",
       "    <tr>\n",
       "      <th>precision</th>\n",
       "      <td>0.622180</td>\n",
       "      <td>0.716519</td>\n",
       "    </tr>\n",
       "    <tr>\n",
       "      <th>recall</th>\n",
       "      <td>0.548922</td>\n",
       "      <td>0.773776</td>\n",
       "    </tr>\n",
       "    <tr>\n",
       "      <th>f1</th>\n",
       "      <td>0.583260</td>\n",
       "      <td>0.744048</td>\n",
       "    </tr>\n",
       "    <tr>\n",
       "      <th>num_class</th>\n",
       "      <td>1206.000000</td>\n",
       "      <td>1777.000000</td>\n",
       "    </tr>\n",
       "    <tr>\n",
       "      <th>prop_class</th>\n",
       "      <td>0.404291</td>\n",
       "      <td>0.595709</td>\n",
       "    </tr>\n",
       "  </tbody>\n",
       "</table>\n",
       "</div>"
      ],
      "text/plain": [
       "              away_wins    home_wins\n",
       "precision      0.622180     0.716519\n",
       "recall         0.548922     0.773776\n",
       "f1             0.583260     0.744048\n",
       "num_class   1206.000000  1777.000000\n",
       "prop_class     0.404291     0.595709"
      ]
     },
     "execution_count": 62,
     "metadata": {},
     "output_type": "execute_result"
    }
   ],
   "source": [
    "# Precision, recall, f1 score for validation set\n",
    "baseline_precision_recall_f1_val = pd.DataFrame(precision_recall_fscore_support(y_val, tuned_baseline_model.predict(X_val)), index=['precision','recall','f1','num_class'], \n",
    "                                            columns=['away_wins','home_wins'])\n",
    "\n",
    "baseline_precision_recall_f1_val.loc['prop_class'] = baseline_precision_recall_f1_val.loc['num_class']/len(val_results_df)\n",
    "\n",
    "baseline_precision_recall_f1_val"
   ]
  },
  {
   "cell_type": "markdown",
   "metadata": {},
   "source": [
    "**Proportion of times model accurately predicted home and away teams to win**"
   ]
  },
  {
   "cell_type": "code",
   "execution_count": 63,
   "metadata": {},
   "outputs": [
    {
     "data": {
      "image/png": "[encoded data removed]",
      "text/plain": [
       "<Figure size 432x288 with 2 Axes>"
      ]
     },
     "metadata": {
      "needs_background": "light"
     },
     "output_type": "display_data"
    },
    {
     "data": {
      "image/png": "[encoded data removed]",
      "text/plain": [
       "<Figure size 432x288 with 2 Axes>"
      ]
     },
     "metadata": {
      "needs_background": "light"
     },
     "output_type": "display_data"
    }
   ],
   "source": [
    "# Confusion Matrix for train set\n",
    "plot_confusion_matrix(tuned_baseline_model, X_train, y_train)\n",
    "plt.show()\n",
    "plot_confusion_matrix(tuned_baseline_model, X_train, y_train,normalize='true')\n",
    "plt.show()"
   ]
  },
  {
   "cell_type": "code",
   "execution_count": 64,
   "metadata": {},
   "outputs": [
    {
     "data": {
      "image/png": "[encoded data removed]",
      "text/plain": [
       "<Figure size 432x288 with 2 Axes>"
      ]
     },
     "metadata": {
      "needs_background": "light"
     },
     "output_type": "display_data"
    },
    {
     "data": {
      "image/png": "[encoded data removed]",
      "text/plain": [
       "<Figure size 432x288 with 2 Axes>"
      ]
     },
     "metadata": {
      "needs_background": "light"
     },
     "output_type": "display_data"
    }
   ],
   "source": [
    "# Confusion Matrix for val set\n",
    "plot_confusion_matrix(tuned_baseline_model, X_val, y_val,)\n",
    "plt.show()\n",
    "plot_confusion_matrix(tuned_baseline_model, X_val, y_val,normalize='true')\n",
    "plt.show()"
   ]
  },
  {
   "cell_type": "markdown",
   "metadata": {},
   "source": [
    "**Notes**\n",
    "\n",
    "- Prop of each class is nearly identical for each dataset \n",
    "    - ~60% home win, ~40% away win\n",
    "    \n",
    "    \n",
    "    \n",
    "- Recall and precision are similar for training and validation results\n",
    "\n",
    "\n",
    "- Model accurately predicts: (recall)\n",
    "    - ~78% of actual home wins\n",
    "    - ~55% of actual away wins\n",
    "    \n",
    "    \n",
    "    \n",
    "- Model is better at selecting winner when the home team wins, however there are more games in the dataset where the home team wins\n"
   ]
  },
  {
   "cell_type": "markdown",
   "metadata": {},
   "source": [
    "**Number of times model accurately predicted home and away underdogs/favorites to win**"
   ]
  },
  {
   "cell_type": "code",
   "execution_count": 65,
   "metadata": {},
   "outputs": [],
   "source": [
    "def fav_and_underdog_predictions_ML(results_df, result_type, print_results=False):\n",
    "    \n",
    "    #filter for home and away favorite wins\n",
    "    if result_type == 'favorite':\n",
    "        home_wins_filter = (results_df['win'] == 1) & (results_df['favorite']==1)\n",
    "        away_wins_filter = (results_df['win'] == 0) & (results_df['favorite']==0)\n",
    "        \n",
    "    #filter for home and away underdog wins        \n",
    "    if result_type == 'underdog':\n",
    "        home_wins_filter = (results_df['win'] == 1) & (results_df['favorite']==0)\n",
    "        away_wins_filter = (results_df['win'] == 0) & (results_df['favorite']==1)\n",
    "        \n",
    "    #number of times fav/underdog home wins \n",
    "    num_home_wins = len(results_df[home_wins_filter])\n",
    "    \n",
    "    #number of times away fav/underdog wins    \n",
    "    num_away_wins = len(results_df[away_wins_filter])\n",
    "    \n",
    "    #total number of times the favorite/underdog wins    \n",
    "    total_wins = num_home_wins + num_away_wins\n",
    "    \n",
    "    #filter for all correct predictions \n",
    "    correct_preds = results_df['win'] == results_df['pred']\n",
    "    \n",
    "    #number of correctly predicted home favorite/underdog wins\n",
    "    correct_home_preds = len(results_df[correct_preds & home_wins_filter])\n",
    "    \n",
    "    #number of correctly predicted away favorite/underdog wins    \n",
    "    correct_away_preds = len(results_df[correct_preds & away_wins_filter])\n",
    "    \n",
    "    #total number of correctly predicted favorite wins        \n",
    "    total_correct_preds = correct_home_preds + correct_away_preds\n",
    "    \n",
    "    \n",
    "    prop_correct_home = correct_home_preds/num_home_wins\n",
    "    prop_correct_away = correct_away_preds/num_away_wins\n",
    "    prop_correct_total = total_correct_preds/total_wins\n",
    "\n",
    "\n",
    "    home_results = {'correct_pred':correct_home_preds,\n",
    "                    'true':num_home_wins,\n",
    "                    'proportion':prop_correct_home\n",
    "                   }\n",
    "\n",
    "    away_results = {'correct_pred':correct_away_preds,\n",
    "                    'true':num_away_wins,\n",
    "                    'proportion':prop_correct_away\n",
    "                   }\n",
    "\n",
    "    total_results = {'correct_pred':total_correct_preds,\n",
    "                     'true':total_wins,\n",
    "                     'proportion':prop_correct_total\n",
    "                    }\n",
    "    \n",
    "    # \"true\" is actual # of times that the index value occurs in dataset (e.g. the number of times the home underdog wins) \n",
    "    # \"correct_pred\" is the number of times you accurately predict that index value (e.g. # of times you accurately predict the home underdog to win)\n",
    "\n",
    "\n",
    "    return pd.DataFrame([home_results, away_results, total_results], \n",
    "                        index=['home_'+result_type+'_wins','away_'+result_type+'_wins','total_'+result_type+'_wins'])\n",
    "\n",
    "\n",
    "\n",
    "\n"
   ]
  },
  {
   "cell_type": "code",
   "execution_count": 66,
   "metadata": {},
   "outputs": [
    {
     "name": "stdout",
     "output_type": "stream",
     "text": [
      "Train Set: Favorite and Underdog Classification Results\n"
     ]
    },
    {
     "data": {
      "text/html": [
       "<div>\n",
       "<style scoped>\n",
       "    .dataframe tbody tr th:only-of-type {\n",
       "        vertical-align: middle;\n",
       "    }\n",
       "\n",
       "    .dataframe tbody tr th {\n",
       "        vertical-align: top;\n",
       "    }\n",
       "\n",
       "    .dataframe thead th {\n",
       "        text-align: right;\n",
       "    }\n",
       "</style>\n",
       "<table border=\"1\" class=\"dataframe\">\n",
       "  <thead>\n",
       "    <tr style=\"text-align: right;\">\n",
       "      <th></th>\n",
       "      <th>correct_pred</th>\n",
       "      <th>true</th>\n",
       "      <th>proportion</th>\n",
       "    </tr>\n",
       "  </thead>\n",
       "  <tbody>\n",
       "    <tr>\n",
       "      <th>home_underdog_wins</th>\n",
       "      <td>0</td>\n",
       "      <td>1046</td>\n",
       "      <td>0.000000</td>\n",
       "    </tr>\n",
       "    <tr>\n",
       "      <th>away_underdog_wins</th>\n",
       "      <td>121</td>\n",
       "      <td>1785</td>\n",
       "      <td>0.067787</td>\n",
       "    </tr>\n",
       "    <tr>\n",
       "      <th>total_underdog_wins</th>\n",
       "      <td>121</td>\n",
       "      <td>2831</td>\n",
       "      <td>0.042741</td>\n",
       "    </tr>\n",
       "    <tr>\n",
       "      <th>home_favorite_wins</th>\n",
       "      <td>4152</td>\n",
       "      <td>4242</td>\n",
       "      <td>0.978784</td>\n",
       "    </tr>\n",
       "    <tr>\n",
       "      <th>away_favorite_wins</th>\n",
       "      <td>1876</td>\n",
       "      <td>1876</td>\n",
       "      <td>1.000000</td>\n",
       "    </tr>\n",
       "    <tr>\n",
       "      <th>total_favorite_wins</th>\n",
       "      <td>6028</td>\n",
       "      <td>6118</td>\n",
       "      <td>0.985289</td>\n",
       "    </tr>\n",
       "  </tbody>\n",
       "</table>\n",
       "</div>"
      ],
      "text/plain": [
       "                     correct_pred  true  proportion\n",
       "home_underdog_wins              0  1046    0.000000\n",
       "away_underdog_wins            121  1785    0.067787\n",
       "total_underdog_wins           121  2831    0.042741\n",
       "home_favorite_wins           4152  4242    0.978784\n",
       "away_favorite_wins           1876  1876    1.000000\n",
       "total_favorite_wins          6028  6118    0.985289"
      ]
     },
     "execution_count": 66,
     "metadata": {},
     "output_type": "execute_result"
    }
   ],
   "source": [
    "train_favorite_underdog_df = pd.concat([fav_and_underdog_predictions_ML(train_results_df, 'underdog',False), fav_and_underdog_predictions_ML(train_results_df, 'favorite',False)])\n",
    "print(\"Train Set: Favorite and Underdog Classification Results\")\n",
    "train_favorite_underdog_df\n",
    "\n",
    "# \"true\" is actual # of times that the index value occurs in dataset (e.g. the number of times the home underdog wins in the dataset) \n",
    "# \"correct_pred\" is the number of times you accurately predict that index value (e.g. # of times you accurately predict the home underdog to win)"
   ]
  },
  {
   "cell_type": "code",
   "execution_count": 67,
   "metadata": {},
   "outputs": [
    {
     "name": "stdout",
     "output_type": "stream",
     "text": [
      "Validation Set: Favorite and Underdog Classification Results\n"
     ]
    },
    {
     "data": {
      "text/html": [
       "<div>\n",
       "<style scoped>\n",
       "    .dataframe tbody tr th:only-of-type {\n",
       "        vertical-align: middle;\n",
       "    }\n",
       "\n",
       "    .dataframe tbody tr th {\n",
       "        vertical-align: top;\n",
       "    }\n",
       "\n",
       "    .dataframe thead th {\n",
       "        text-align: right;\n",
       "    }\n",
       "</style>\n",
       "<table border=\"1\" class=\"dataframe\">\n",
       "  <thead>\n",
       "    <tr style=\"text-align: right;\">\n",
       "      <th></th>\n",
       "      <th>correct_pred</th>\n",
       "      <th>true</th>\n",
       "      <th>proportion</th>\n",
       "    </tr>\n",
       "  </thead>\n",
       "  <tbody>\n",
       "    <tr>\n",
       "      <th>home_underdog_wins</th>\n",
       "      <td>0</td>\n",
       "      <td>362</td>\n",
       "      <td>0.000000</td>\n",
       "    </tr>\n",
       "    <tr>\n",
       "      <th>away_underdog_wins</th>\n",
       "      <td>30</td>\n",
       "      <td>574</td>\n",
       "      <td>0.052265</td>\n",
       "    </tr>\n",
       "    <tr>\n",
       "      <th>total_underdog_wins</th>\n",
       "      <td>30</td>\n",
       "      <td>936</td>\n",
       "      <td>0.032051</td>\n",
       "    </tr>\n",
       "    <tr>\n",
       "      <th>home_favorite_wins</th>\n",
       "      <td>1375</td>\n",
       "      <td>1415</td>\n",
       "      <td>0.971731</td>\n",
       "    </tr>\n",
       "    <tr>\n",
       "      <th>away_favorite_wins</th>\n",
       "      <td>632</td>\n",
       "      <td>632</td>\n",
       "      <td>1.000000</td>\n",
       "    </tr>\n",
       "    <tr>\n",
       "      <th>total_favorite_wins</th>\n",
       "      <td>2007</td>\n",
       "      <td>2047</td>\n",
       "      <td>0.980459</td>\n",
       "    </tr>\n",
       "  </tbody>\n",
       "</table>\n",
       "</div>"
      ],
      "text/plain": [
       "                     correct_pred  true  proportion\n",
       "home_underdog_wins              0   362    0.000000\n",
       "away_underdog_wins             30   574    0.052265\n",
       "total_underdog_wins            30   936    0.032051\n",
       "home_favorite_wins           1375  1415    0.971731\n",
       "away_favorite_wins            632   632    1.000000\n",
       "total_favorite_wins          2007  2047    0.980459"
      ]
     },
     "execution_count": 67,
     "metadata": {},
     "output_type": "execute_result"
    }
   ],
   "source": [
    "val_favorite_underdog_df = pd.concat([fav_and_underdog_predictions_ML(val_results_df, 'underdog',False), fav_and_underdog_predictions_ML(val_results_df, 'favorite',False)])\n",
    "print(\"Validation Set: Favorite and Underdog Classification Results\")\n",
    "# Number of times model accurately predicted home and away underdogs and favorites to win \n",
    "val_favorite_underdog_df"
   ]
  },
  {
   "cell_type": "code",
   "execution_count": 68,
   "metadata": {},
   "outputs": [
    {
     "data": {
      "text/plain": [
       "0.9764219465862107"
      ]
     },
     "execution_count": 68,
     "metadata": {},
     "output_type": "execute_result"
    }
   ],
   "source": [
    "# Prop. of model predicting favorite to win in train set\n",
    "(train_results_df['favorite'] == train_results_df['pred']).sum()/len(train_results_df)"
   ]
  },
  {
   "cell_type": "code",
   "execution_count": 69,
   "metadata": {},
   "outputs": [
    {
     "data": {
      "text/plain": [
       "0.976533690915186"
      ]
     },
     "execution_count": 69,
     "metadata": {},
     "output_type": "execute_result"
    }
   ],
   "source": [
    "# Prop. of model predicting favorite to win in val set\n",
    "(val_results_df['favorite'] == val_results_df['pred']).sum()/len(val_results_df)"
   ]
  },
  {
   "cell_type": "markdown",
   "metadata": {},
   "source": [
    "**Notes**\n",
    "- Model chooses favorite to win ~97.5% of the time (very rarely predicts underdog)\n",
    "    - likely because model only uses moneylines (favorites) to classify\n",
    "\n",
    "\n",
    "- Model never predicts home underdog to win, very rarely picks away underdog to win.\n",
    "\n",
    "- Predicts all away favorite wins most likely because if a team is favorited when away, they are likely a much better team\n",
    "\n",
    "\n",
    "- Features of classifier aren't strong enough to pick up on underdog wins\n"
   ]
  },
  {
   "cell_type": "markdown",
   "metadata": {},
   "source": [
    "## Key Points\n",
    "\n",
    "- Vegas Baselines (pick favorite to win):\n",
    "    - train accuracy: 0.683652\n",
    "    - val accuracy: 0.686222\n",
    "\n",
    "\n",
    "- The simple baseline model uses a Decision Tree Classifier to predict the outcomes of NBA games (home team wins = 1, home team loses = 0) from each team's previous game advanced stats (e.g. efg%_roll_1, nrtg_roll_1, etc.), point differentials, and average money lines.  \n",
    "\n",
    "\n",
    "- The base settings for the Decision Tree model overfit the data (training accuracy = 1.0, validation accuracy = 0.59705).  After some rudimentary hyperparameter tuning, the training accuracy dropped to 0.687116 and **validation accuracy increased to 0.6828696**.  On the pure test set (not used to tune the model), which is comprised of the 2021 season, the model's accuracy was 0.65158. \n",
    "    - very similar to vegas baselines\n",
    "\n",
    "\n",
    "- Baseline **only uses moneylines** to predict outcomes of games (despite being fed wider variety of features) which is why...\n",
    "\n",
    "\n",
    "- Baseline very bad at predicting underdogs to win (i.e. model **almost always picks vegas favorite to win**, because favorites do win 68% of the time)\n",
    "    - roll_1 features don't contain much predictive power\n",
    "    \n",
    "    \n",
    "    \n",
    "- Decision Tree diagram shows that the model is only confident when picking heavy favorites to win (shown by bold-colored leaves and relatively small gini impurity values) \n",
    "   \n",
    "\n"
   ]
  },
  {
   "cell_type": "markdown",
   "metadata": {},
   "source": [
    "**Notes** \n",
    "- Need better features to be able to pick up underdog wins\n",
    "\n",
    "- Including the odds as a feature might sway the model too much. Should look into including an indicator to represent which team is the favorite instead?\n",
    "\n",
    "- It is relatively easy to identify the favorite in a game (even without vegas odds), so the key to making a good model lies in being able to accurately predict games where the underdog wins or the odds are very close"
   ]
  },
  {
   "cell_type": "markdown",
   "metadata": {},
   "source": [
    "**-----------------------------------------------------------------------------------------------------------------------------------------------------------------------------------------**"
   ]
  },
  {
   "cell_type": "markdown",
   "metadata": {},
   "source": [
    " "
   ]
  },
  {
   "cell_type": "markdown",
   "metadata": {},
   "source": [
    " "
   ]
  }
 ],
 "metadata": {
  "kernelspec": {
   "display_name": "Python 3",
   "language": "python",
   "name": "python3"
  },
  "language_info": {
   "codemirror_mode": {
    "name": "ipython",
    "version": 3
   },
   "file_extension": ".py",
   "mimetype": "text/x-python",
   "name": "python",
   "nbconvert_exporter": "python",
   "pygments_lexer": "ipython3",
   "version": "3.8.5"
  }
 },
 "nbformat": 4,
 "nbformat_minor": 4
}
